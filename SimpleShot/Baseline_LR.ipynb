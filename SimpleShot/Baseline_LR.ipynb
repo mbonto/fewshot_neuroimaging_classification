{
 "cells": [
  {
   "cell_type": "code",
   "execution_count": 1,
   "metadata": {},
   "outputs": [],
   "source": [
    "import torch\n",
    "from data import get_dataloader\n",
    "import numpy as np\n",
    "\n",
    "from functions import *\n",
    "from PT_plus_MAP import *\n",
    "from architecture import LR"
   ]
  },
  {
   "cell_type": "code",
   "execution_count": 2,
   "metadata": {},
   "outputs": [],
   "source": [
    "### Architecture ###\n",
    "model_name = 'LR'\n",
    "\n",
    "### Optimization ###\n",
    "lr = 0.1\n",
    "weight_decay = 1e-4\n",
    "lr_gamma = 0.1\n",
    "n_epoch = 20\n",
    "\n",
    "# Episodes parameters\n",
    "n_episode = 10000  # number of few-shot tasks generated\n",
    "n_way = 5\n",
    "n_shot = 1\n",
    "n_query = 15"
   ]
  },
  {
   "cell_type": "code",
   "execution_count": 3,
   "metadata": {},
   "outputs": [],
   "source": [
    "# Architecture\n",
    "model = LR(n_way)\n",
    "\n",
    "# Data parameters\n",
    "IBC_path = '/bigdisk2/nilearn_data/neurovault/collection_6618/'\n",
    "split_dir = '../dataset/split/'\n",
    "parcel = True\n",
    "batch_size = 128\n",
    "\n",
    "# Save path\n",
    "save_path = f'./results/{model.name}/'"
   ]
  },
  {
   "cell_type": "markdown",
   "metadata": {},
   "source": [
    "# Train a LR on the training examples of the few-shot task and evaluate it on the query samples."
   ]
  },
  {
   "cell_type": "code",
   "execution_count": 4,
   "metadata": {},
   "outputs": [
    {
     "name": "stdout",
     "output_type": "stream",
     "text": [
      "The baseline has an average accuracy of 52.94% over 10000 tasks with 95% confidence interval 0.19.\n"
     ]
    }
   ],
   "source": [
    "# Loader\n",
    "train_loader = get_dataloader('train', IBC_path, parcel, split_dir, meta=False, batch_size=1, sampler=None)\n",
    "test_loader = get_dataloader('test', IBC_path, parcel, split_dir, meta=False, batch_size=1, sampler=None)\n",
    "\n",
    "# Reshape the data samples.\n",
    "base_mean, data = extract_feature(train_loader, test_loader, model, 'best')\n",
    "\n",
    "# Train a LR on 10000 few-shot problems and evaluate it.  ## Essayer avec normalisation et sans normalisation. Et aussi avec centrage et normalisation.\n",
    "acc_list = []\n",
    "# You can use the same normalization as in SimpleShot ('CL2N') or only divide each example by its norm ('L2N').  \n",
    "norm_type = None\n",
    "\n",
    "# Iterate over several episodes.\n",
    "for episode in range(n_episode):\n",
    "    # Retrieve train and test from test_loader\n",
    "    train_data, test_data, train_labels, test_labels = sample_case(data, n_shot, n_way, n_query)\n",
    "    #print(\"train_data\", train_data.shape)  #  Examples associated with the same class follow each other.\n",
    "    #print(\"train_labels\", train_labels.shape)\n",
    "    # (Optional) Normalize the data samples.\n",
    "    if norm_type == 'CL2N':\n",
    "        train_data = train_data - base_mean\n",
    "        train_data = train_data / LA.norm(train_data, 2, 1)[:, None]\n",
    "        test_data = test_data - base_mean\n",
    "        test_data = test_data / LA.norm(test_data, 2, 1)[:, None]\n",
    "    elif norm_type == 'L2N':\n",
    "        train_data = train_data / LA.norm(train_data, 2, 1)[:, None]\n",
    "        test_data = test_data / LA.norm(test_data, 2, 1)[:, None]\n",
    "    train_data = torch.from_numpy(train_data)\n",
    "    train_labels = torch.from_numpy(train_labels)\n",
    "    test_data = torch.from_numpy(test_data)\n",
    "    test_labels = torch.from_numpy(test_labels)\n",
    "    \n",
    "    # Rename the labels for criterion\n",
    "    #print(train_labels)\n",
    "    unique_labels = torch.sort(torch.unique(train_labels))\n",
    "    #print(unique_labels.values)\n",
    "    for new_l, l in enumerate(unique_labels.values):\n",
    "        train_labels[train_labels == l] = torch.ones_like(train_labels[train_labels == l]) * new_l\n",
    "        test_labels[test_labels == l] = torch.ones_like(test_labels[test_labels == l]) * new_l\n",
    "    # Initialize the LR on the train for a few epochs\n",
    "    model = LR(n_way)\n",
    "    \n",
    "    # Optimization\n",
    "    criterion = nn.CrossEntropyLoss()\n",
    "    optimizer, scheduler = get_optimizer(model, lr, n_epoch)\n",
    "    \n",
    "    # Train the LR\n",
    "    model.train()\n",
    "    losses = []\n",
    "    train_accs = []\n",
    "    for epoch in range(n_epoch+1):\n",
    "        # Train for one epoch.\n",
    "        # Zero the parameter gradients.\n",
    "        optimizer.zero_grad()\n",
    "        # Forward + backward + optimize.\n",
    "        outputs = model(train_data)   \n",
    "        loss = criterion(outputs, train_labels)\n",
    "        loss.backward()  \n",
    "        optimizer.step()\n",
    "        scheduler.step()\n",
    "        acc = compute_accuracy(outputs.clone().detach(), train_labels)\n",
    "        # Statistics.\n",
    "        losses.append(loss.item())\n",
    "        train_accs.append(acc*100 / train_labels.shape[0])\n",
    "    \n",
    "    # Compute the accuracy on test_data\n",
    "    optimizer.zero_grad()\n",
    "    model.eval()\n",
    "    \n",
    "    with torch.no_grad():    \n",
    "        outputs = model(test_data)\n",
    "\n",
    "        # Compute the accuracy.\n",
    "        acc = compute_accuracy(outputs.clone().detach(), test_labels)\n",
    "    print('Acc on episode {} : {:.2f}.'.format(episode, acc*100 / test_labels.shape[0]), end='\\r')\n",
    "    acc_list.append(acc*100 / test_labels.shape[0])\n",
    "\n",
    "acc_mean, acc_conf = compute_confidence_interval(acc_list)\n",
    "print('The baseline has an average accuracy of {:.2f}% over {} tasks with 95% confidence interval {:.2f}.'.format(np.round(acc_mean, 2), n_episode, np.round(acc_conf, 2)))"
   ]
  }
 ],
 "metadata": {
  "kernelspec": {
   "display_name": "myriam",
   "language": "python",
   "name": "myriam"
  },
  "language_info": {
   "codemirror_mode": {
    "name": "ipython",
    "version": 3
   },
   "file_extension": ".py",
   "mimetype": "text/x-python",
   "name": "python",
   "nbconvert_exporter": "python",
   "pygments_lexer": "ipython3",
   "version": "3.6.12"
  }
 },
 "nbformat": 4,
 "nbformat_minor": 4
}
