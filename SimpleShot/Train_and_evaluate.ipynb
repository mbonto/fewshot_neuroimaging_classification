{
 "cells": [
  {
   "cell_type": "code",
   "execution_count": 1,
   "metadata": {},
   "outputs": [],
   "source": [
    "#from architecture import *\n",
    "import torch\n",
    "from data import get_dataloader\n",
    "from utils import create_sampler\n",
    "import numpy as np\n",
    "import random\n",
    "\n",
    "from functions import *\n",
    "from PT_plus_MAP import *"
   ]
  },
  {
   "cell_type": "code",
   "execution_count": 2,
   "metadata": {},
   "outputs": [],
   "source": [
    "# Download the dataset.\n",
    "# Execute the notebooks in dataset to download the data and prepare them."
   ]
  },
  {
   "cell_type": "code",
   "execution_count": 3,
   "metadata": {},
   "outputs": [],
   "source": [
    "### Architecture ###\n",
    "# model = MLP(num_layers=2, num_feat=512, num_classes=61)\n",
    "# model = Conv1d(num_layers=2, num_feat=512, num_classes=61)\n",
    "# model = GNN(num_classes=61)\n",
    "\n",
    "# Only the needed variables will be used to create the model.\n",
    "model_name = 'GNN'  #'MLP', 'GNN' or 'Conv1d'\n",
    "num_classes = 61  # Number of classes in the base dataset. \n",
    "num_layers = 1  # Number of hidden layers.\n",
    "num_feat = 360  # For 'MLP'/'GNN', number of features per hidden layer. For 'Conv1d', number of feature maps per hidden layer.\n",
    "n_step = 1  # Only for 'GNN'. Number of times the input signal is diffused. See the 'GNN' architecture for more details.\n",
    "inplanes = 8\n",
    "\n",
    "### Optimization ###\n",
    "lr = 0.1\n",
    "weight_decay = 1e-4\n",
    "lr_gamma = 0.1\n",
    "n_epoch = 90"
   ]
  },
  {
   "cell_type": "code",
   "execution_count": 4,
   "metadata": {},
   "outputs": [],
   "source": [
    "# Architecture\n",
    "model_parameters = get_model_parameters(model_name, num_layers, num_feat, num_classes, n_step)\n",
    "model = get_model(model_name, model_parameters)\n",
    "\n",
    "# Data parameters\n",
    "### TO UPDATE\n",
    "IBC_path = '/home/brain/nilearn_data/neurovault/collection_6618/'\n",
    "split_dir = '../dataset/split/'\n",
    "parcel, batch_size = get_variables(model.name)\n",
    "\n",
    "# Episodes parameters\n",
    "n_episode = 500\n",
    "n_way = 5\n",
    "n_shot = 1\n",
    "n_query = 15\n",
    "\n",
    "# Save path\n",
    "save_path = f'./results/{model.name}/'\n",
    "\n",
    "# Sampler\n",
    "train_sampler = create_sampler(IBC_path, split_dir, 'train')\n",
    "val_sampler_infos = [n_episode, n_way, n_shot, n_query]\n",
    "\n",
    "# Loader\n",
    "train_loader = get_dataloader('train', IBC_path, parcel, split_dir, meta=False, batch_size=batch_size, sampler=train_sampler)\n",
    "val_loader = get_dataloader('val', IBC_path, parcel, split_dir, meta=True, sampler_infos=val_sampler_infos)"
   ]
  },
  {
   "cell_type": "markdown",
   "metadata": {},
   "source": [
    "# Train the model"
   ]
  },
  {
   "cell_type": "code",
   "execution_count": 5,
   "metadata": {},
   "outputs": [],
   "source": [
    "# Optimization\n",
    "criterion = nn.CrossEntropyLoss()\n",
    "optimizer, scheduler = get_optimizer(model, lr, n_epoch)\n",
    "\n",
    "# Move on CUDA.\n",
    "use_cuda = True\n",
    "model = model.cuda()\n",
    "    \n",
    "# Number of epochs between each evaluation on the validation dataset.\n",
    "iter_val_acc = 5"
   ]
  },
  {
   "cell_type": "code",
   "execution_count": 6,
   "metadata": {
    "scrolled": true
   },
   "outputs": [
    {
     "name": "stderr",
     "output_type": "stream",
     "text": [
      "  0%|          | 0/500 [00:00<?, ?it/s]"
     ]
    },
    {
     "name": "stdout",
     "output_type": "stream",
     "text": [
      "Loss at epoch 1: 3.85.(Acc \t: 6.21)."
     ]
    },
    {
     "name": "stderr",
     "output_type": "stream",
     "text": [
      "100%|██████████| 500/500 [00:07<00:00, 64.80it/s]"
     ]
    },
    {
     "name": "stdout",
     "output_type": "stream",
     "text": [
      "Acc on tasks at epoch 1: 47.15.\n"
     ]
    },
    {
     "name": "stderr",
     "output_type": "stream",
     "text": [
      "\n"
     ]
    },
    {
     "name": "stdout",
     "output_type": "stream",
     "text": [
      "Loss at epoch 5: 1.40.(Acc \t: 56.82)."
     ]
    },
    {
     "name": "stderr",
     "output_type": "stream",
     "text": [
      "  0%|          | 0/500 [00:00<?, ?it/s]"
     ]
    },
    {
     "name": "stdout",
     "output_type": "stream",
     "text": [
      "Loss at epoch 6: 1.16.(Acc \t: 65.54)."
     ]
    },
    {
     "name": "stderr",
     "output_type": "stream",
     "text": [
      "100%|██████████| 500/500 [00:07<00:00, 65.05it/s]"
     ]
    },
    {
     "name": "stdout",
     "output_type": "stream",
     "text": [
      "Acc on tasks at epoch 6: 57.24.\n"
     ]
    },
    {
     "name": "stderr",
     "output_type": "stream",
     "text": [
      "\n"
     ]
    },
    {
     "name": "stdout",
     "output_type": "stream",
     "text": [
      "Loss at epoch 10: 0.71.(Acc \t: 77.56)."
     ]
    },
    {
     "name": "stderr",
     "output_type": "stream",
     "text": [
      "  0%|          | 0/500 [00:00<?, ?it/s]"
     ]
    },
    {
     "name": "stdout",
     "output_type": "stream",
     "text": [
      "Loss at epoch 11: 0.58.(Acc \t: 82.81)."
     ]
    },
    {
     "name": "stderr",
     "output_type": "stream",
     "text": [
      "100%|██████████| 500/500 [00:07<00:00, 64.50it/s]"
     ]
    },
    {
     "name": "stdout",
     "output_type": "stream",
     "text": [
      "Acc on tasks at epoch 11: 60.45.\n"
     ]
    },
    {
     "name": "stderr",
     "output_type": "stream",
     "text": [
      "\n"
     ]
    },
    {
     "name": "stdout",
     "output_type": "stream",
     "text": [
      "Loss at epoch 15: 0.38.(Acc \t: 88.86)."
     ]
    },
    {
     "name": "stderr",
     "output_type": "stream",
     "text": [
      "  0%|          | 0/500 [00:00<?, ?it/s]"
     ]
    },
    {
     "name": "stdout",
     "output_type": "stream",
     "text": [
      "Loss at epoch 16: 0.34.(Acc \t: 88.22)."
     ]
    },
    {
     "name": "stderr",
     "output_type": "stream",
     "text": [
      "100%|██████████| 500/500 [00:07<00:00, 64.42it/s]"
     ]
    },
    {
     "name": "stdout",
     "output_type": "stream",
     "text": [
      "Acc on tasks at epoch 16: 59.74.\n"
     ]
    },
    {
     "name": "stderr",
     "output_type": "stream",
     "text": [
      "\n"
     ]
    },
    {
     "name": "stdout",
     "output_type": "stream",
     "text": [
      "Loss at epoch 20: 0.29.(Acc \t: 90.07)."
     ]
    },
    {
     "name": "stderr",
     "output_type": "stream",
     "text": [
      "  0%|          | 0/500 [00:00<?, ?it/s]"
     ]
    },
    {
     "name": "stdout",
     "output_type": "stream",
     "text": [
      "Loss at epoch 21: 0.26.(Acc \t: 92.82)."
     ]
    },
    {
     "name": "stderr",
     "output_type": "stream",
     "text": [
      "100%|██████████| 500/500 [00:07<00:00, 64.28it/s]"
     ]
    },
    {
     "name": "stdout",
     "output_type": "stream",
     "text": [
      "Acc on tasks at epoch 21: 61.49.\n"
     ]
    },
    {
     "name": "stderr",
     "output_type": "stream",
     "text": [
      "\n"
     ]
    },
    {
     "name": "stdout",
     "output_type": "stream",
     "text": [
      "Loss at epoch 25: 0.17.(Acc \t: 94.92)."
     ]
    },
    {
     "name": "stderr",
     "output_type": "stream",
     "text": [
      "  0%|          | 0/500 [00:00<?, ?it/s]"
     ]
    },
    {
     "name": "stdout",
     "output_type": "stream",
     "text": [
      "Loss at epoch 26: 0.20.(Acc \t: 93.79)."
     ]
    },
    {
     "name": "stderr",
     "output_type": "stream",
     "text": [
      "100%|██████████| 500/500 [00:07<00:00, 64.46it/s]"
     ]
    },
    {
     "name": "stdout",
     "output_type": "stream",
     "text": [
      "Acc on tasks at epoch 26: 59.30.\n"
     ]
    },
    {
     "name": "stderr",
     "output_type": "stream",
     "text": [
      "\n"
     ]
    },
    {
     "name": "stdout",
     "output_type": "stream",
     "text": [
      "Loss at epoch 30: 0.15.(Acc \t: 95.88)."
     ]
    },
    {
     "name": "stderr",
     "output_type": "stream",
     "text": [
      "  0%|          | 0/500 [00:00<?, ?it/s]"
     ]
    },
    {
     "name": "stdout",
     "output_type": "stream",
     "text": [
      "Loss at epoch 31: 0.13.(Acc \t: 95.48)."
     ]
    },
    {
     "name": "stderr",
     "output_type": "stream",
     "text": [
      "100%|██████████| 500/500 [00:07<00:00, 64.41it/s]"
     ]
    },
    {
     "name": "stdout",
     "output_type": "stream",
     "text": [
      "Acc on tasks at epoch 31: 59.09.\n"
     ]
    },
    {
     "name": "stderr",
     "output_type": "stream",
     "text": [
      "\n"
     ]
    },
    {
     "name": "stdout",
     "output_type": "stream",
     "text": [
      "Loss at epoch 35: 0.13.(Acc \t: 96.37)."
     ]
    },
    {
     "name": "stderr",
     "output_type": "stream",
     "text": [
      "  0%|          | 0/500 [00:00<?, ?it/s]"
     ]
    },
    {
     "name": "stdout",
     "output_type": "stream",
     "text": [
      "Loss at epoch 36: 0.13.(Acc \t: 95.88)."
     ]
    },
    {
     "name": "stderr",
     "output_type": "stream",
     "text": [
      "100%|██████████| 500/500 [00:07<00:00, 64.10it/s]"
     ]
    },
    {
     "name": "stdout",
     "output_type": "stream",
     "text": [
      "Acc on tasks at epoch 36: 59.16.\n"
     ]
    },
    {
     "name": "stderr",
     "output_type": "stream",
     "text": [
      "\n"
     ]
    },
    {
     "name": "stdout",
     "output_type": "stream",
     "text": [
      "Loss at epoch 40: 0.13.(Acc \t: 96.21)."
     ]
    },
    {
     "name": "stderr",
     "output_type": "stream",
     "text": [
      "  0%|          | 0/500 [00:00<?, ?it/s]"
     ]
    },
    {
     "name": "stdout",
     "output_type": "stream",
     "text": [
      "Loss at epoch 41: 0.11.(Acc \t: 97.09)."
     ]
    },
    {
     "name": "stderr",
     "output_type": "stream",
     "text": [
      "100%|██████████| 500/500 [00:07<00:00, 64.53it/s]"
     ]
    },
    {
     "name": "stdout",
     "output_type": "stream",
     "text": [
      "Acc on tasks at epoch 41: 60.01.\n"
     ]
    },
    {
     "name": "stderr",
     "output_type": "stream",
     "text": [
      "\n"
     ]
    },
    {
     "name": "stdout",
     "output_type": "stream",
     "text": [
      "Loss at epoch 45: 0.10.(Acc \t: 97.42)."
     ]
    },
    {
     "name": "stderr",
     "output_type": "stream",
     "text": [
      "  0%|          | 0/500 [00:00<?, ?it/s]"
     ]
    },
    {
     "name": "stdout",
     "output_type": "stream",
     "text": [
      "Loss at epoch 46: 0.08.(Acc \t: 97.90)."
     ]
    },
    {
     "name": "stderr",
     "output_type": "stream",
     "text": [
      "100%|██████████| 500/500 [00:07<00:00, 64.23it/s]"
     ]
    },
    {
     "name": "stdout",
     "output_type": "stream",
     "text": [
      "Acc on tasks at epoch 46: 58.55.\n"
     ]
    },
    {
     "name": "stderr",
     "output_type": "stream",
     "text": [
      "\n"
     ]
    },
    {
     "name": "stdout",
     "output_type": "stream",
     "text": [
      "Loss at epoch 50: 0.05.(Acc \t: 99.19)."
     ]
    },
    {
     "name": "stderr",
     "output_type": "stream",
     "text": [
      "  0%|          | 0/500 [00:00<?, ?it/s]"
     ]
    },
    {
     "name": "stdout",
     "output_type": "stream",
     "text": [
      "Loss at epoch 51: 0.05.(Acc \t: 99.52)."
     ]
    },
    {
     "name": "stderr",
     "output_type": "stream",
     "text": [
      "100%|██████████| 500/500 [00:07<00:00, 64.44it/s]"
     ]
    },
    {
     "name": "stdout",
     "output_type": "stream",
     "text": [
      "Acc on tasks at epoch 51: 60.03.\n"
     ]
    },
    {
     "name": "stderr",
     "output_type": "stream",
     "text": [
      "\n"
     ]
    },
    {
     "name": "stdout",
     "output_type": "stream",
     "text": [
      "Loss at epoch 55: 0.05.(Acc \t: 99.19)."
     ]
    },
    {
     "name": "stderr",
     "output_type": "stream",
     "text": [
      "  0%|          | 0/500 [00:00<?, ?it/s]"
     ]
    },
    {
     "name": "stdout",
     "output_type": "stream",
     "text": [
      "Loss at epoch 56: 0.05.(Acc \t: 99.35)."
     ]
    },
    {
     "name": "stderr",
     "output_type": "stream",
     "text": [
      "100%|██████████| 500/500 [00:07<00:00, 67.55it/s]"
     ]
    },
    {
     "name": "stdout",
     "output_type": "stream",
     "text": [
      "Acc on tasks at epoch 56: 58.94.\n"
     ]
    },
    {
     "name": "stderr",
     "output_type": "stream",
     "text": [
      "\n"
     ]
    },
    {
     "name": "stdout",
     "output_type": "stream",
     "text": [
      "Loss at epoch 60: 0.04.(Acc \t: 99.68)."
     ]
    },
    {
     "name": "stderr",
     "output_type": "stream",
     "text": [
      "  0%|          | 0/500 [00:00<?, ?it/s]"
     ]
    },
    {
     "name": "stdout",
     "output_type": "stream",
     "text": [
      "Loss at epoch 61: 0.05.(Acc \t: 99.52)."
     ]
    },
    {
     "name": "stderr",
     "output_type": "stream",
     "text": [
      "100%|██████████| 500/500 [00:07<00:00, 64.01it/s]"
     ]
    },
    {
     "name": "stdout",
     "output_type": "stream",
     "text": [
      "Acc on tasks at epoch 61: 59.37.\n"
     ]
    },
    {
     "name": "stderr",
     "output_type": "stream",
     "text": [
      "\n"
     ]
    },
    {
     "name": "stdout",
     "output_type": "stream",
     "text": [
      "Loss at epoch 65: 0.05.(Acc \t: 99.27)."
     ]
    },
    {
     "name": "stderr",
     "output_type": "stream",
     "text": [
      "  0%|          | 0/500 [00:00<?, ?it/s]"
     ]
    },
    {
     "name": "stdout",
     "output_type": "stream",
     "text": [
      "Loss at epoch 66: 0.05.(Acc \t: 99.35)."
     ]
    },
    {
     "name": "stderr",
     "output_type": "stream",
     "text": [
      "100%|██████████| 500/500 [00:07<00:00, 66.76it/s]"
     ]
    },
    {
     "name": "stdout",
     "output_type": "stream",
     "text": [
      "Acc on tasks at epoch 66: 59.36.\n"
     ]
    },
    {
     "name": "stderr",
     "output_type": "stream",
     "text": [
      "\n"
     ]
    },
    {
     "name": "stdout",
     "output_type": "stream",
     "text": [
      "Loss at epoch 70: 0.05.(Acc \t: 99.27)."
     ]
    },
    {
     "name": "stderr",
     "output_type": "stream",
     "text": [
      "  0%|          | 0/500 [00:00<?, ?it/s]"
     ]
    },
    {
     "name": "stdout",
     "output_type": "stream",
     "text": [
      "Loss at epoch 71: 0.05.(Acc \t: 99.19)."
     ]
    },
    {
     "name": "stderr",
     "output_type": "stream",
     "text": [
      "100%|██████████| 500/500 [00:07<00:00, 69.17it/s]"
     ]
    },
    {
     "name": "stdout",
     "output_type": "stream",
     "text": [
      "Acc on tasks at epoch 71: 58.94.\n"
     ]
    },
    {
     "name": "stderr",
     "output_type": "stream",
     "text": [
      "\n"
     ]
    },
    {
     "name": "stdout",
     "output_type": "stream",
     "text": [
      "Loss at epoch 75: 0.05.(Acc \t: 99.11)."
     ]
    },
    {
     "name": "stderr",
     "output_type": "stream",
     "text": [
      "  0%|          | 0/500 [00:00<?, ?it/s]"
     ]
    },
    {
     "name": "stdout",
     "output_type": "stream",
     "text": [
      "Loss at epoch 76: 0.05.(Acc \t: 99.27)."
     ]
    },
    {
     "name": "stderr",
     "output_type": "stream",
     "text": [
      "100%|██████████| 500/500 [00:07<00:00, 64.76it/s]"
     ]
    },
    {
     "name": "stdout",
     "output_type": "stream",
     "text": [
      "Acc on tasks at epoch 76: 59.10.\n"
     ]
    },
    {
     "name": "stderr",
     "output_type": "stream",
     "text": [
      "\n"
     ]
    },
    {
     "name": "stdout",
     "output_type": "stream",
     "text": [
      "Loss at epoch 80: 0.04.(Acc \t: 99.27)."
     ]
    },
    {
     "name": "stderr",
     "output_type": "stream",
     "text": [
      "  0%|          | 0/500 [00:00<?, ?it/s]"
     ]
    },
    {
     "name": "stdout",
     "output_type": "stream",
     "text": [
      "Loss at epoch 81: 0.04.(Acc \t: 99.44)."
     ]
    },
    {
     "name": "stderr",
     "output_type": "stream",
     "text": [
      "100%|██████████| 500/500 [00:07<00:00, 64.30it/s]"
     ]
    },
    {
     "name": "stdout",
     "output_type": "stream",
     "text": [
      "Acc on tasks at epoch 81: 59.94.\n"
     ]
    },
    {
     "name": "stderr",
     "output_type": "stream",
     "text": [
      "\n"
     ]
    },
    {
     "name": "stdout",
     "output_type": "stream",
     "text": [
      "Loss at epoch 85: 0.04.(Acc \t: 99.35)."
     ]
    },
    {
     "name": "stderr",
     "output_type": "stream",
     "text": [
      "  0%|          | 0/500 [00:00<?, ?it/s]"
     ]
    },
    {
     "name": "stdout",
     "output_type": "stream",
     "text": [
      "Loss at epoch 86: 0.04.(Acc \t: 99.52)."
     ]
    },
    {
     "name": "stderr",
     "output_type": "stream",
     "text": [
      "100%|██████████| 500/500 [00:07<00:00, 62.99it/s]\n"
     ]
    },
    {
     "name": "stdout",
     "output_type": "stream",
     "text": [
      "Acc on tasks at epoch 86: 59.29.\n",
      "Loss at epoch 90: 0.04.(Acc \t: 99.60)."
     ]
    },
    {
     "name": "stderr",
     "output_type": "stream",
     "text": [
      "  0%|          | 0/500 [00:00<?, ?it/s]"
     ]
    },
    {
     "name": "stdout",
     "output_type": "stream",
     "text": [
      "Loss at epoch 91: 0.04.(Acc \t: 99.27)."
     ]
    },
    {
     "name": "stderr",
     "output_type": "stream",
     "text": [
      "100%|██████████| 500/500 [00:07<00:00, 63.53it/s]"
     ]
    },
    {
     "name": "stdout",
     "output_type": "stream",
     "text": [
      "Acc on tasks at epoch 91: 58.86.\n"
     ]
    },
    {
     "name": "stderr",
     "output_type": "stream",
     "text": [
      "\n"
     ]
    }
   ],
   "source": [
    "# Train the model and evaluate it on the validation set at each epoch.\n",
    "epochs_acc = []\n",
    "epochs_loss = []\n",
    "epochs_train_acc = []\n",
    "\n",
    "best_acc = -1\n",
    "for epoch in range(n_epoch+1):\n",
    "    # Train for one epoch.\n",
    "    epoch_loss, epoch_train_acc = train(model, criterion, optimizer, train_loader, use_cuda)\n",
    "    print(\"\\rLoss at epoch {}: {:.2f}.\".format(epoch+1, epoch_loss), end='')\n",
    "    print(\"(Acc \\t: {:.2f}).\".format(epoch_train_acc*100),end='')\n",
    "    # Evaluate on the few-shot tasks from the validation set.\n",
    "    if epoch % iter_val_acc == 0:\n",
    "        optimizer.zero_grad()\n",
    "        epoch_acc = episodic_evaluation(model, val_loader, val_sampler_infos, use_cuda)\n",
    "        print(\"Acc on tasks at epoch {}: {:.2f}.\".format(epoch+1, epoch_acc*100))\n",
    "    scheduler.step()\n",
    "    # Check if it is the best epoch_acc so far.\n",
    "    is_best = epoch_acc > best_acc\n",
    "    best_acc = max(epoch_acc, best_acc)\n",
    "    \n",
    "    # Save the model\n",
    "    epochs_loss.append(epoch_loss)\n",
    "    epochs_train_acc.append(epoch_train_acc*100)\n",
    "    epochs_acc.append(epoch_acc*100)\n",
    "    save_checkpoint({\n",
    "                'epoch': epoch + 1,\n",
    "                'arch': \"MLP - num_layers {} - num_feat {} - num_classes {}\".format(num_layers, num_feat, num_classes),\n",
    "                'state_dict': model.state_dict(),\n",
    "                'best_acc': best_acc,\n",
    "                'optimizer': optimizer.state_dict(),\n",
    "                'epochs_acc': epochs_acc,\n",
    "                'epochs_train_acc': epochs_train_acc,\n",
    "                'epochs_loss': epochs_loss \n",
    "            }, is_best, folder=save_path)\n"
   ]
  },
  {
   "cell_type": "code",
   "execution_count": 7,
   "metadata": {},
   "outputs": [],
   "source": [
    "# Check the training has been correct.\n",
    "def load_statistics(save_path, type='last'):\n",
    "    if type == 'best':\n",
    "        checkpoint = torch.load('{}/model_best.pth.tar'.format(save_path))\n",
    "    elif type == 'last':\n",
    "        checkpoint = torch.load('{}/checkpoint.pth.tar'.format(save_path))\n",
    "    else:\n",
    "        assert False, 'type should be in [best, or last], but got {}'.format(type)\n",
    "    epochs_acc = checkpoint['epochs_acc']\n",
    "    epochs_train_acc = checkpoint['epochs_train_acc']\n",
    "    epochs_loss = checkpoint['epochs_loss']\n",
    "    best_acc = checkpoint['best_acc']\n",
    "    return epochs_acc, epochs_loss, epochs_train_acc, best_acc\n",
    "\n",
    "epochs_acc, epochs_loss, epochs_train_acc, best_acc = load_statistics(save_path)"
   ]
  },
  {
   "cell_type": "code",
   "execution_count": 8,
   "metadata": {},
   "outputs": [
    {
     "data": {
      "image/png": "[encoded data removed]",
      "text/plain": [
       "<Figure size 432x288 with 1 Axes>"
      ]
     },
     "metadata": {
      "needs_background": "light"
     },
     "output_type": "display_data"
    },
    {
     "data": {
      "image/png": "[encoded data removed]",
      "text/plain": [
       "<Figure size 432x288 with 1 Axes>"
      ]
     },
     "metadata": {
      "needs_background": "light"
     },
     "output_type": "display_data"
    },
    {
     "name": "stdout",
     "output_type": "stream",
     "text": [
      "The best accuracy on tasks on the validation set is: 61.49.\n"
     ]
    }
   ],
   "source": [
    "import matplotlib.pyplot as plt\n",
    "%matplotlib inline\n",
    "plt.plot(epochs_train_acc, 'g', label='train')\n",
    "plt.plot(epochs_acc, 'r', label='val')\n",
    "plt.legend()\n",
    "plt.xlabel(\"Epoch\")\n",
    "plt.ylabel(\"Accuracy\")\n",
    "plt.show()\n",
    "plt.plot(epochs_loss, 'g')\n",
    "plt.xlabel(\"Epoch\")\n",
    "plt.ylabel(\"Loss\")\n",
    "plt.show()\n",
    "\n",
    "print(\"The best accuracy on tasks on the validation set is: {:.2f}.\".format(best_acc*100))"
   ]
  },
  {
   "cell_type": "markdown",
   "metadata": {},
   "source": [
    "# Test the model"
   ]
  },
  {
   "cell_type": "code",
   "execution_count": 9,
   "metadata": {},
   "outputs": [],
   "source": [
    "# Loader\n",
    "train_loader = get_dataloader('train', IBC_path, parcel, split_dir, meta=False, batch_size=1, sampler=None)\n",
    "test_loader = get_dataloader('test', IBC_path, parcel, split_dir, meta=False, batch_size=1, sampler=None)"
   ]
  },
  {
   "cell_type": "code",
   "execution_count": 10,
   "metadata": {
    "scrolled": true
   },
   "outputs": [
    {
     "data": {
      "text/plain": [
       "(0.600348, 0.002109496179907163, 0.7529880000000001, 0.0017677327145184415)"
      ]
     },
     "execution_count": 10,
     "metadata": {},
     "output_type": "execute_result"
    }
   ],
   "source": [
    "acc_1_shot,conf1, acc_5_shot, conf5 = do_extract_and_evaluate_simplified(model, train_loader, test_loader, save_path)\n",
    "acc_1_shot, conf1, acc_5_shot, conf5"
   ]
  },
  {
   "cell_type": "code",
   "execution_count": 11,
   "metadata": {
    "scrolled": true
   },
   "outputs": [],
   "source": [
    "test_loader = get_dataloader('test', IBC_path, parcel, split_dir, meta=False, batch_size=1, sampler=None)\n",
    "acc_1_shot, conf1, acc_5_shot, conf5 = do_extract_and_evaluate_simplified_PT_plus_MAP(model, test_loader, save_path)"
   ]
  },
  {
   "cell_type": "code",
   "execution_count": 12,
   "metadata": {},
   "outputs": [
    {
     "data": {
      "text/plain": [
       "(0.6705320006780326,\n",
       " 0.0029499481925461374,\n",
       " 0.7652946676820517,\n",
       " 0.0020002435670376166)"
      ]
     },
     "execution_count": 12,
     "metadata": {},
     "output_type": "execute_result"
    }
   ],
   "source": [
    "acc_1_shot, conf1, acc_5_shot, conf5"
   ]
  }
 ],
 "metadata": {
  "kernelspec": {
   "display_name": "neuro",
   "language": "python",
   "name": "neuro"
  },
  "language_info": {
   "codemirror_mode": {
    "name": "ipython",
    "version": 3
   },
   "file_extension": ".py",
   "mimetype": "text/x-python",
   "name": "python",
   "nbconvert_exporter": "python",
   "pygments_lexer": "ipython3",
   "version": "3.6.12"
  }
 },
 "nbformat": 4,
 "nbformat_minor": 4
}
