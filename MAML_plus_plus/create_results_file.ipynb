{
 "cells": [
  {
   "cell_type": "code",
   "execution_count": 2,
   "metadata": {},
   "outputs": [],
   "source": [
    "from utils.store_results import reset_results_file, update_results_file\n",
    "\n",
    "###TO UPDATE\n",
    "save_results = '/home/brain/Myriam/fMRI_transfer/github/MAML_plus_plus/results'\n",
    "reset_results_file(save_results + '/1_shot')\n",
    "reset_results_file(save_results + '/5_shot')"
   ]
  }
 ],
 "metadata": {
  "kernelspec": {
   "display_name": "neuro",
   "language": "python",
   "name": "neuro"
  },
  "language_info": {
   "codemirror_mode": {
    "name": "ipython",
    "version": 3
   },
   "file_extension": ".py",
   "mimetype": "text/x-python",
   "name": "python",
   "nbconvert_exporter": "python",
   "pygments_lexer": "ipython3",
   "version": "3.6.12"
  }
 },
 "nbformat": 4,
 "nbformat_minor": 4
}
