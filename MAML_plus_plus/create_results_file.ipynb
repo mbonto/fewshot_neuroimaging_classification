{
 "cells": [
  {
   "cell_type": "code",
   "execution_count": 1,
   "metadata": {},
   "outputs": [],
   "source": [
    "import os\n",
    "from utils.store_results import reset_results_file, update_results_file\n",
    "\n",
    "### TO UPDATE ###\n",
    "# Use the same save_results as in the Create config file notebook.\n",
    "save_results = '/home/brain/Myriam/fMRI_transfer/git/fewshot_neuroimaging_classification/MAML_plus_plus/results'\n",
    "if not os.path.exists(save_results + '/1_shot'):\n",
    "    os.makedirs(save_results + '/1_shot')\n",
    "    os.makedirs(save_results + '/5_shot')\n",
    "reset_results_file(save_results + '/1_shot')\n",
    "reset_results_file(save_results + '/5_shot')"
   ]
  },
  {
   "cell_type": "code",
   "execution_count": null,
   "metadata": {},
   "outputs": [],
   "source": []
  }
 ],
 "metadata": {
  "kernelspec": {
   "display_name": "myriam",
   "language": "python",
   "name": "myriam"
  },
  "language_info": {
   "codemirror_mode": {
    "name": "ipython",
    "version": 3
   },
   "file_extension": ".py",
   "mimetype": "text/x-python",
   "name": "python",
   "nbconvert_exporter": "python",
   "pygments_lexer": "ipython3",
   "version": "3.6.12"
  }
 },
 "nbformat": 4,
 "nbformat_minor": 4
}
