{
 "cells": [
  {
   "cell_type": "code",
   "execution_count": 4,
   "metadata": {},
   "outputs": [],
   "source": [
    "import json"
   ]
  },
  {
   "cell_type": "code",
   "execution_count": 5,
   "metadata": {},
   "outputs": [],
   "source": [
    "def create_config(num_classes, samples_per_class, target_samples_per_class, seed, model_name, num_features, \n",
    "                  num_stages, total_epochs, save_results, connectivity_matrix_path):\n",
    "    data = {\n",
    "        \"train_seed\": seed, \"val_seed\": seed,    \n",
    "        \"load_into_memory\": False,\n",
    "\n",
    "        # Loading data.\n",
    "        \"image_height\": 360,\n",
    "        \"image_width\": 1,\n",
    "        \"image_channels\": 1,\n",
    "        \"num_dataprovider_workers\": 2,\n",
    "        \"dataset_name\": \"IBC\",\n",
    "        \"dataset_path\": \"IBC\",\n",
    "        \"indexes_of_folders_indicating_class\": [-3, -2],\n",
    "        \"sets_are_pre_split\": True,\n",
    "        \"num_of_gpus\": 1,\n",
    "        \"batch_size\": 8,\n",
    "        \"num_target_samples\": target_samples_per_class,\n",
    "        \"num_samples_per_class\": samples_per_class,\n",
    "        \"num_classes_per_set\": num_classes,\n",
    "\n",
    "        # Meta-training hyperparameters.\n",
    "        ## Inner loop.\n",
    "        \"task_learning_rate\": 0.01,\n",
    "        \"number_of_training_steps_per_iter\": 5,\n",
    "        \"learnable_per_layer_per_step_inner_loop_learning_rate\": True,\n",
    "        ## Outer loop.\n",
    "        \"meta_learning_rate\": 0.005,\n",
    "        \"total_epochs\": total_epochs,\n",
    "        \"min_learning_rate\": 0.001,\n",
    "        \"second_order\": True,\n",
    "        \"first_order_to_second_order_epoch\": -1,\n",
    "        \"use_multi_step_loss_optimization\": True,\n",
    "        \"multi_step_loss_num_epochs\": 10,\n",
    "\n",
    "        # Meta-testing hyperparameters.\n",
    "        \"evaluate_on_test_set_only\": False,\n",
    "        \"number_of_evaluation_steps_per_iter\": 5,\n",
    "        \"num_evaluation_tasks\": 496,\n",
    "\n",
    "        # Architecture\n",
    "        \"model_name\": model_name, #'MLP', 'GNN' or 'Conv1d'\n",
    "        \"num_features\": num_features,\n",
    "        \"num_stages\": num_stages,\n",
    "\n",
    "        # Save results\n",
    "        \"experiment_name\":f\"IBC_{num_classes}_way_{samples_per_class}_shot_{seed}_seed_{model_name}_model_{num_stages}_depth_{num_features}_features\",\n",
    "        \"max_models_to_save\": 1,\n",
    "        \"continue_from_epoch\": \"from_scratch\",\n",
    "        \"total_epochs_before_pause\": 150,\n",
    "        \"total_iter_per_epoch\": 50,\n",
    "        \"save_results\": save_results,\n",
    "        \"connectivity_matrix_path\": connectivity_matrix_path,\n",
    "\n",
    "    }\n",
    "    return data"
   ]
  },
  {
   "cell_type": "code",
   "execution_count": 3,
   "metadata": {},
   "outputs": [],
   "source": [
    "### TO UPDATE ###\n",
    "save_results = '/home/brain/Myriam/fMRI_transfer/git/fewshot_neuroimaging_classification/MAML_plus_plus/results'\n",
    "connectivity_matrix_path = '/home/brain/Myriam/fMRI_transfer/git/fewshot_neuroimaging_classification/dataset/SC_avg56.mat'\n",
    "\n",
    "# Examples of experimental settings.\n",
    "num_classes = 5\n",
    "target_samples_per_class = 15  ## Be careful: samples_per_class + target_samples_per_class <= 21.\n",
    "seed = 0\n",
    "total_epochs = 20\n",
    "\n",
    "for model_name in ['GNN', 'MLP', 'Conv1d']:\n",
    "    for samples_per_class in [1, 5]:\n",
    "        # num_features can be in [64, 128, 256, 360, 512, 1024] for the 'MLP', 'GNN'. It represents the number of features.\n",
    "        # num_features can be in [64, 128, 256, 360, 512, 1024] for the 'Conv1d'. It represents the number of feature maps.\n",
    "        # in practice, you can use other numbers but you need to change the configuration of the files storing the results in utils.store_results.\n",
    "        for num_features in [64, 128, 256, 360, 512, 1024]:\n",
    "            for num_stages in [1, 2,]:\n",
    "                data = create_config(num_classes, samples_per_class, target_samples_per_class, seed, model_name, num_features, num_stages, total_epochs, save_results, connectivity_matrix_path)\n",
    "                with open(f\"IBC_{num_classes}_way_{samples_per_class}_shot_{seed}_seed_{model_name}_model_{num_stages}_depth_{num_features}_features.json\", 'w') as file:\n",
    "                    json.dump(data, file)\n"
   ]
  }
 ],
 "metadata": {
  "kernelspec": {
   "display_name": "myriam",
   "language": "python",
   "name": "myriam"
  },
  "language_info": {
   "codemirror_mode": {
    "name": "ipython",
    "version": 3
   },
   "file_extension": ".py",
   "mimetype": "text/x-python",
   "name": "python",
   "nbconvert_exporter": "python",
   "pygments_lexer": "ipython3",
   "version": "3.6.12"
  }
 },
 "nbformat": 4,
 "nbformat_minor": 4
}
